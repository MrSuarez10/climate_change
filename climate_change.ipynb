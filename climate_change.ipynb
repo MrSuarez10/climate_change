{
 "cells": [
  {
   "cell_type": "code",
   "execution_count": 1,
   "metadata": {},
   "outputs": [],
   "source": [
    "import pandas as pd\n",
    "import numpy as np\n",
    "import ipywidgets as widgets\n",
    "import matplotlib.pyplot as plt"
   ]
  },
  {
   "cell_type": "code",
   "execution_count": 2,
   "metadata": {},
   "outputs": [],
   "source": [
    "temp_change=pd.read_csv('temp_change.csv',encoding='Windows-1252')"
   ]
  },
  {
   "cell_type": "code",
   "execution_count": 3,
   "metadata": {},
   "outputs": [],
   "source": [
    "def lineal_plot(country,month):\n",
    "    row_selected=temp_change[(temp_change['Area']==country)&(temp_change['Months']==month)&(temp_change['Element']=='Temperature change')]\n",
    "    data=[]\n",
    "    for col in row_selected.columns:\n",
    "        if col.startswith('Y') and len(col)==5:\n",
    "            data.append(row_selected[col])\n",
    "    plt.figure(figsize=(12, 6))\n",
    "    plt.xlabel(\"Year\",fontsize=18)\n",
    "    plt.ylabel(\"°C\",fontsize=18,rotation=0)\n",
    "    x=[0,len(data)/6,2*len(data)/6,3*len(data)/6,4*len(data)/6,5*len(data)/6,len(data)]\n",
    "    labels=['1960','1970','1980','1990','2000','2010','2020']\n",
    "    plt.xticks(x, labels)\n",
    "    plt.plot(data)\n",
    "    plt.grid()\n",
    "    plt.show()"
   ]
  },
  {
   "cell_type": "code",
   "execution_count": 4,
   "metadata": {},
   "outputs": [
    {
     "data": {
      "application/vnd.jupyter.widget-view+json": {
       "model_id": "5a5f99b0f39646038acea4592f3f09db",
       "version_major": 2,
       "version_minor": 0
      },
      "text/plain": [
       "interactive(children=(Dropdown(description='country', options=('Afghanistan', 'Albania', 'Algeria', 'American …"
      ]
     },
     "metadata": {},
     "output_type": "display_data"
    },
    {
     "data": {
      "text/plain": [
       "<function __main__.lineal_plot(country, month)>"
      ]
     },
     "execution_count": 4,
     "metadata": {},
     "output_type": "execute_result"
    }
   ],
   "source": [
    "widgets.interact(lineal_plot, country=temp_change['Area'].unique(), month=temp_change['Months'].unique())"
   ]
  },
  {
   "cell_type": "code",
   "execution_count": null,
   "metadata": {},
   "outputs": [],
   "source": []
  }
 ],
 "metadata": {
  "kernelspec": {
   "display_name": "Python 3",
   "language": "python",
   "name": "python3"
  },
  "language_info": {
   "codemirror_mode": {
    "name": "ipython",
    "version": 3
   },
   "file_extension": ".py",
   "mimetype": "text/x-python",
   "name": "python",
   "nbconvert_exporter": "python",
   "pygments_lexer": "ipython3",
   "version": "3.8.5"
  }
 },
 "nbformat": 4,
 "nbformat_minor": 4
}
