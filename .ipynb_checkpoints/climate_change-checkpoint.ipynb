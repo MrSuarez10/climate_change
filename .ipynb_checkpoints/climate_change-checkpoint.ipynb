{
 "cells": [
  {
   "cell_type": "code",
   "execution_count": 102,
   "metadata": {},
   "outputs": [],
   "source": [
    "import pandas as pd\n",
    "import numpy as np\n",
    "import ipywidgets as widgets\n",
    "import matplotlib.pyplot as plt\n",
    "from matplotlib.pyplot import figure"
   ]
  },
  {
   "cell_type": "code",
   "execution_count": 37,
   "metadata": {},
   "outputs": [],
   "source": [
    "temps=pd.read_csv('temps.csv')\n",
    "temp_change=pd.read_csv('temp_change.csv',encoding='Windows-1252')"
   ]
  },
  {
   "cell_type": "code",
   "execution_count": 38,
   "metadata": {},
   "outputs": [
    {
     "data": {
      "text/html": [
       "<div>\n",
       "<style scoped>\n",
       "    .dataframe tbody tr th:only-of-type {\n",
       "        vertical-align: middle;\n",
       "    }\n",
       "\n",
       "    .dataframe tbody tr th {\n",
       "        vertical-align: top;\n",
       "    }\n",
       "\n",
       "    .dataframe thead th {\n",
       "        text-align: right;\n",
       "    }\n",
       "</style>\n",
       "<table border=\"1\" class=\"dataframe\">\n",
       "  <thead>\n",
       "    <tr style=\"text-align: right;\">\n",
       "      <th></th>\n",
       "      <th>Domain Code</th>\n",
       "      <th>Domain</th>\n",
       "      <th>Area Code (FAO)</th>\n",
       "      <th>Area</th>\n",
       "      <th>Element Code</th>\n",
       "      <th>Element</th>\n",
       "      <th>Months Code</th>\n",
       "      <th>Months</th>\n",
       "      <th>Year Code</th>\n",
       "      <th>Year</th>\n",
       "      <th>Unit</th>\n",
       "      <th>Value</th>\n",
       "      <th>Flag</th>\n",
       "      <th>Flag Description</th>\n",
       "    </tr>\n",
       "  </thead>\n",
       "  <tbody>\n",
       "    <tr>\n",
       "      <th>0</th>\n",
       "      <td>ET</td>\n",
       "      <td>Temperature change</td>\n",
       "      <td>2</td>\n",
       "      <td>Afghanistan</td>\n",
       "      <td>7271</td>\n",
       "      <td>Temperature change</td>\n",
       "      <td>7001</td>\n",
       "      <td>January</td>\n",
       "      <td>1961</td>\n",
       "      <td>1961</td>\n",
       "      <td>?C</td>\n",
       "      <td>0.746</td>\n",
       "      <td>Fc</td>\n",
       "      <td>Calculated data</td>\n",
       "    </tr>\n",
       "    <tr>\n",
       "      <th>1</th>\n",
       "      <td>ET</td>\n",
       "      <td>Temperature change</td>\n",
       "      <td>2</td>\n",
       "      <td>Afghanistan</td>\n",
       "      <td>7271</td>\n",
       "      <td>Temperature change</td>\n",
       "      <td>7001</td>\n",
       "      <td>January</td>\n",
       "      <td>1962</td>\n",
       "      <td>1962</td>\n",
       "      <td>?C</td>\n",
       "      <td>0.009</td>\n",
       "      <td>Fc</td>\n",
       "      <td>Calculated data</td>\n",
       "    </tr>\n",
       "    <tr>\n",
       "      <th>2</th>\n",
       "      <td>ET</td>\n",
       "      <td>Temperature change</td>\n",
       "      <td>2</td>\n",
       "      <td>Afghanistan</td>\n",
       "      <td>7271</td>\n",
       "      <td>Temperature change</td>\n",
       "      <td>7001</td>\n",
       "      <td>January</td>\n",
       "      <td>1963</td>\n",
       "      <td>1963</td>\n",
       "      <td>?C</td>\n",
       "      <td>2.695</td>\n",
       "      <td>Fc</td>\n",
       "      <td>Calculated data</td>\n",
       "    </tr>\n",
       "    <tr>\n",
       "      <th>3</th>\n",
       "      <td>ET</td>\n",
       "      <td>Temperature change</td>\n",
       "      <td>2</td>\n",
       "      <td>Afghanistan</td>\n",
       "      <td>7271</td>\n",
       "      <td>Temperature change</td>\n",
       "      <td>7001</td>\n",
       "      <td>January</td>\n",
       "      <td>1964</td>\n",
       "      <td>1964</td>\n",
       "      <td>?C</td>\n",
       "      <td>-5.277</td>\n",
       "      <td>Fc</td>\n",
       "      <td>Calculated data</td>\n",
       "    </tr>\n",
       "    <tr>\n",
       "      <th>4</th>\n",
       "      <td>ET</td>\n",
       "      <td>Temperature change</td>\n",
       "      <td>2</td>\n",
       "      <td>Afghanistan</td>\n",
       "      <td>7271</td>\n",
       "      <td>Temperature change</td>\n",
       "      <td>7001</td>\n",
       "      <td>January</td>\n",
       "      <td>1965</td>\n",
       "      <td>1965</td>\n",
       "      <td>?C</td>\n",
       "      <td>1.827</td>\n",
       "      <td>Fc</td>\n",
       "      <td>Calculated data</td>\n",
       "    </tr>\n",
       "  </tbody>\n",
       "</table>\n",
       "</div>"
      ],
      "text/plain": [
       "  Domain Code              Domain  Area Code (FAO)         Area  Element Code  \\\n",
       "0          ET  Temperature change                2  Afghanistan          7271   \n",
       "1          ET  Temperature change                2  Afghanistan          7271   \n",
       "2          ET  Temperature change                2  Afghanistan          7271   \n",
       "3          ET  Temperature change                2  Afghanistan          7271   \n",
       "4          ET  Temperature change                2  Afghanistan          7271   \n",
       "\n",
       "              Element  Months Code   Months  Year Code  Year Unit  Value Flag  \\\n",
       "0  Temperature change         7001  January       1961  1961   ?C  0.746   Fc   \n",
       "1  Temperature change         7001  January       1962  1962   ?C  0.009   Fc   \n",
       "2  Temperature change         7001  January       1963  1963   ?C  2.695   Fc   \n",
       "3  Temperature change         7001  January       1964  1964   ?C -5.277   Fc   \n",
       "4  Temperature change         7001  January       1965  1965   ?C  1.827   Fc   \n",
       "\n",
       "  Flag Description  \n",
       "0  Calculated data  \n",
       "1  Calculated data  \n",
       "2  Calculated data  \n",
       "3  Calculated data  \n",
       "4  Calculated data  "
      ]
     },
     "execution_count": 38,
     "metadata": {},
     "output_type": "execute_result"
    }
   ],
   "source": [
    "temps.head()"
   ]
  },
  {
   "cell_type": "code",
   "execution_count": 157,
   "metadata": {},
   "outputs": [],
   "source": [
    "def lineal_plot(country,month):\n",
    "    row_selected=temp_change[(temp_change['Area']==country)&(temp_change['Months']==month)&(temp_change['Element']=='Temperature change')]\n",
    "    data=[]\n",
    "    for col in row_selected.columns:\n",
    "        if col.startswith('Y') and len(col)==5:\n",
    "            data.append(row_selected[col])\n",
    "    plt.figure(figsize=(12, 6))\n",
    "    plt.xlabel(\"Year\",fontsize=18)\n",
    "    plt.ylabel(\"°C\",fontsize=18,rotation=0)\n",
    "    x=[0,len(data)/6,2*len(data)/6,3*len(data)/6,4*len(data)/6,5*len(data)/6,len(data)]\n",
    "    labels=['1960','1970','1980','1990','2000','2010','2020']\n",
    "    plt.xticks(x, labels)\n",
    "    plt.plot(data)\n",
    "    plt.show()"
   ]
  },
  {
   "cell_type": "code",
   "execution_count": 158,
   "metadata": {},
   "outputs": [
    {
     "data": {
      "application/vnd.jupyter.widget-view+json": {
       "model_id": "f52f0b29bb6b41489adbbee05687a9a6",
       "version_major": 2,
       "version_minor": 0
      },
      "text/plain": [
       "interactive(children=(Dropdown(description='country', options=('Afghanistan', 'Albania', 'Algeria', 'American …"
      ]
     },
     "metadata": {},
     "output_type": "display_data"
    },
    {
     "data": {
      "text/plain": [
       "<function __main__.lineal_plot(country, month)>"
      ]
     },
     "execution_count": 158,
     "metadata": {},
     "output_type": "execute_result"
    }
   ],
   "source": [
    "widgets.interact(lineal_plot, country=temp_change['Area'].unique(), month=temp_change['Months'].unique())"
   ]
  },
  {
   "cell_type": "code",
   "execution_count": null,
   "metadata": {},
   "outputs": [],
   "source": []
  }
 ],
 "metadata": {
  "kernelspec": {
   "display_name": "Python 3",
   "language": "python",
   "name": "python3"
  },
  "language_info": {
   "codemirror_mode": {
    "name": "ipython",
    "version": 3
   },
   "file_extension": ".py",
   "mimetype": "text/x-python",
   "name": "python",
   "nbconvert_exporter": "python",
   "pygments_lexer": "ipython3",
   "version": "3.8.5"
  }
 },
 "nbformat": 4,
 "nbformat_minor": 4
}
